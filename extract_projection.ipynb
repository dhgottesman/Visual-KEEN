{
 "cells": [
  {
   "cell_type": "markdown",
   "metadata": {},
   "source": [
    "# Load LLaVA and extract representation of image"
   ]
  },
  {
   "cell_type": "code",
   "execution_count": 39,
   "metadata": {},
   "outputs": [
    {
     "name": "stdout",
     "output_type": "stream",
     "text": [
      "Using device: cpu\n"
     ]
    }
   ],
   "source": [
    "import torch\n",
    "\n",
    "# Check if CUDA is available and set the device\n",
    "device = torch.device('cuda' if torch.cuda.is_available() else 'cpu')\n",
    "print(\"Using device:\", device)"
   ]
  },
  {
   "cell_type": "code",
   "execution_count": 40,
   "metadata": {},
   "outputs": [
    {
     "name": "stderr",
     "output_type": "stream",
     "text": [
      "/homes/talbu/.conda/envs/llava/lib/python3.10/site-packages/huggingface_hub/file_download.py:1142: FutureWarning: `resume_download` is deprecated and will be removed in version 1.0.0. Downloads always resume when possible. If you want to force a new download, use `force_download=True`.\n",
      "  warnings.warn(\n",
      "You are using a model of type llava to instantiate a model of type llava_llama. This is not supported for all configurations of models and can yield errors.\n",
      "Loading checkpoint shards: 100%|██████████| 2/2 [00:00<00:00,  6.31it/s]\n"
     ]
    }
   ],
   "source": [
    "from llava.model.builder import load_pretrained_model\n",
    "from llava.mm_utils import get_model_name_from_path\n",
    "\n",
    "model_path = \"liuhaotian/llava-v1.5-7b\"\n",
    "\n",
    "tokenizer, model, image_processor, context_len = load_pretrained_model(\n",
    "    model_path=model_path,\n",
    "    model_base=None,\n",
    "    model_name=get_model_name_from_path(model_path)\n",
    ")\n",
    "\n",
    "model = model.to(dtype=torch.float32)"
   ]
  },
  {
   "cell_type": "code",
   "execution_count": 41,
   "metadata": {},
   "outputs": [],
   "source": [
    "# Access the vision tower (the model's visual encoder)\n",
    "vision_tower = model.model.vision_tower"
   ]
  },
  {
   "cell_type": "code",
   "execution_count": 42,
   "metadata": {},
   "outputs": [],
   "source": [
    "from PIL import Image\n",
    "\n",
    "# Load and preprocess the image\n",
    "image_path = \"/homes/talbu/work/repos/2_data.png\"\n",
    "image = Image.open(image_path).convert('RGB')\n",
    "\n",
    "image_inputs = image_processor(images=image, return_tensors='pt')\n",
    "image_tensor = image_inputs['pixel_values'].to(device)\n"
   ]
  },
  {
   "cell_type": "code",
   "execution_count": 43,
   "metadata": {},
   "outputs": [],
   "source": [
    "with torch.no_grad():\n",
    "    # Pass the image through the vision tower\n",
    "    vision_features = vision_tower(image_tensor)\n",
    "\n",
    "    # Convert vision_features to match the model's dtype\n",
    "    vision_features = vision_features.to(next(model.parameters()).dtype)\n",
    "\n",
    "    # Check for the projection layer\n",
    "    if hasattr(model.model, 'mm_projector'):\n",
    "        image_embedding = model.model.mm_projector(vision_features)\n"
   ]
  },
  {
   "cell_type": "code",
   "execution_count": 44,
   "metadata": {},
   "outputs": [
    {
     "name": "stdout",
     "output_type": "stream",
     "text": [
      "Image Embedding Shape: torch.Size([1, 576, 4096])\n",
      "Image Embedding Dtype: torch.float32\n"
     ]
    }
   ],
   "source": [
    "# Print the shape and dtype of the image embedding\n",
    "print(\"Image Embedding Shape:\", image_embedding.shape)\n",
    "print(\"Image Embedding Dtype:\", image_embedding.dtype)"
   ]
  },
  {
   "cell_type": "markdown",
   "metadata": {},
   "source": [
    "# Compute cosine similarity between the representations"
   ]
  },
  {
   "cell_type": "markdown",
   "metadata": {},
   "source": [
    "## Obtain the Text Embedding of the Entity Name"
   ]
  },
  {
   "cell_type": "code",
   "execution_count": 45,
   "metadata": {},
   "outputs": [],
   "source": [
    "entity_name = \"Stop Traffic sign\"\n",
    "\n",
    "# Tokenize the text\n",
    "inputs = tokenizer(entity_name, return_tensors='pt')\n",
    "input_ids = inputs['input_ids'].to(model.device)\n",
    "\n",
    "# Get the text embeddings\n",
    "with torch.no_grad():\n",
    "    text_embeddings = model.get_input_embeddings()(input_ids)  # Shape: [1, seq_len, hidden_size]\n",
    "\n",
    "# Pool the text embeddings\n",
    "text_embedding = text_embeddings.mean(dim=1)  # Shape: [1, hidden_size]\n"
   ]
  },
  {
   "cell_type": "markdown",
   "metadata": {},
   "source": [
    "## Process the Image Embedding"
   ]
  },
  {
   "cell_type": "code",
   "execution_count": 47,
   "metadata": {},
   "outputs": [],
   "source": [
    "# Pool the image embeddings\n",
    "image_embedding_pooled = image_embedding.mean(dim=1)  # Shape: [1, hidden_size]\n",
    "\n",
    "# Ensure embeddings are on the same device and have the same dtype\n",
    "text_embedding = text_embedding.to(image_embedding_pooled.device)\n",
    "text_embedding = text_embedding.to(image_embedding_pooled.dtype)"
   ]
  },
  {
   "cell_type": "markdown",
   "metadata": {},
   "source": [
    "## Compute the Cosine Similarity"
   ]
  },
  {
   "cell_type": "code",
   "execution_count": 48,
   "metadata": {},
   "outputs": [
    {
     "name": "stdout",
     "output_type": "stream",
     "text": [
      "Cosine Similarity: 0.05746552720665932\n"
     ]
    }
   ],
   "source": [
    "from torch.nn.functional import cosine_similarity\n",
    "\n",
    "# Compute cosine similarity\n",
    "cos_sim = cosine_similarity(text_embedding, image_embedding_pooled, dim=1)\n",
    "print(\"Cosine Similarity:\", cos_sim.item())"
   ]
  }
 ],
 "metadata": {
  "kernelspec": {
   "display_name": "Python 3.10.15 64-bit",
   "language": "python",
   "name": "python3"
  },
  "language_info": {
   "codemirror_mode": {
    "name": "ipython",
    "version": 3
   },
   "file_extension": ".py",
   "mimetype": "text/x-python",
   "name": "python",
   "nbconvert_exporter": "python",
   "pygments_lexer": "ipython3",
   "version": "3.10.15"
  },
  "vscode": {
   "interpreter": {
    "hash": "2ee6ae3ca67b55830d80b3277b01081b56ddcb13a49b73923c3b38272c9e2d1d"
   }
  }
 },
 "nbformat": 4,
 "nbformat_minor": 2
}
